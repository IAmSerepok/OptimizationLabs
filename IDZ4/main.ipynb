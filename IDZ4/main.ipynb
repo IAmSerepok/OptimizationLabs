{
 "cells": [
  {
   "cell_type": "code",
   "execution_count": 45,
   "metadata": {},
   "outputs": [],
   "source": [
    "import numpy as np\n",
    "import matplotlib.pyplot as plt\n",
    "import pandas as pd\n",
    "import seaborn as sns"
   ]
  },
  {
   "cell_type": "markdown",
   "metadata": {},
   "source": [
    "# Вывод функции в общем виде\n",
    "$$\n",
    "f_0(x) = \\dfrac 1 2 (x^TAx) + b^Tx \\quad A-неопределенная~невыражденная~матрица\n",
    "$$\n",
    "$$\n",
    "f_0(x) = \\dfrac 1 2 \\left( \\sum\\limits_{j=1}^{3}\\left( x_j\\sum\\limits_{i=1}^{3}a_{ij}x_i\\right) \\right) + \\sum\\limits_{i=1}^{3}b_ix_i\n",
    "$$\n"
   ]
  },
  {
   "cell_type": "code",
   "execution_count": 46,
   "metadata": {},
   "outputs": [],
   "source": [
    "A = np.array([[ 1, 0,  0],\n",
    "              [ 0,  1,  0],\n",
    "              [ 2, 0,  1]])\n",
    "\n",
    "b = np.array([0, 1, 0])"
   ]
  },
  {
   "cell_type": "code",
   "execution_count": 47,
   "metadata": {},
   "outputs": [
    {
     "data": {
      "text/plain": [
       "np.float64(1.0)"
      ]
     },
     "execution_count": 47,
     "metadata": {},
     "output_type": "execute_result"
    }
   ],
   "source": [
    "np.linalg.det(A)"
   ]
  },
  {
   "cell_type": "markdown",
   "metadata": {},
   "source": [
    "$$\n",
    "A= \\begin{pmatrix}\n",
    "{1} && {2} && {0} \\\\ \n",
    "{0} && {1} && {0} \\\\ \n",
    "{0} && {0} && {1}\n",
    "\\end{pmatrix}\n",
    "$$\n",
    "\n",
    "$$\n",
    "b = \\begin{pmatrix}{0}\\\\ {1}\\\\ {0}\\end{pmatrix}\n",
    "$$"
   ]
  },
  {
   "cell_type": "markdown",
   "metadata": {},
   "source": [
    "$$\n",
    "f_0(x_1, x_2, x_2) = \n",
    "\\dfrac 1 2 \\left(\n",
    "    x_1^2 + x_2^2 +x_3^2 + 2x_1x_2\n",
    "\\right) + x_2\n",
    "$$"
   ]
  },
  {
   "cell_type": "markdown",
   "metadata": {},
   "source": [
    "$$\n",
    "g(x)=\\| x-x_0 \\| - r = 0 \\iff \\| x - x_0 \\| ^2 - r^2 = 0\n",
    "$$"
   ]
  },
  {
   "cell_type": "code",
   "execution_count": 48,
   "metadata": {},
   "outputs": [],
   "source": [
    "def f(x1, x2, x3):\n",
    "    return (x1 ** 2 + x2 ** 2 + x3 ** 2 + 2 * x1 * x2) / 2 + x2"
   ]
  },
  {
   "cell_type": "markdown",
   "metadata": {},
   "source": [
    "$$\n",
    "F(x)=f(x) + \\lambda g(x)\n",
    "$$"
   ]
  },
  {
   "cell_type": "markdown",
   "metadata": {},
   "source": [
    "$$\n",
    "L(\\lambda, x)=\\dfrac 1 2 \\left(\n",
    "    x_1^2 + x_2^2 +x_3^2 + 2x_1x_2\n",
    "\\right) + x_2 + \\lambda((x_1-p_1)^2 + (x_2-p_2)^2 + (x_3-p_3)^2 - r^2)\n",
    "$$"
   ]
  },
  {
   "cell_type": "code",
   "execution_count": 49,
   "metadata": {},
   "outputs": [],
   "source": [
    "def L(v):\n",
    "    lambda_val, x1, x2, x3 = v\n",
    "    global x0, r\n",
    "    return ((x1 ** 2 + x2 ** 2 + x3 ** 2 + 2 * x1 * x2) / 2 + x2\n",
    "            + lambda_val * ((x1 - x0[0]) ** 2 + (x2 - x0[1]) ** 2 + (x2 - x0[1]) ** 2 - r ** 2))"
   ]
  },
  {
   "cell_type": "markdown",
   "metadata": {},
   "source": [
    "$$\n",
    "\\nabla L = \\begin{cases}\n",
    "{(x_1-p_1)^2 + (x_2-p_2)^2 + (x_3-p_3)^2 - r^2} \\\\\n",
    "{x_1+x_2+2\\lambda (x_1-p_1)} \\\\\n",
    "{x_2+x_1+1+2\\lambda (x_2-p_2)} \\\\\n",
    "{x_3+2\\lambda (x_3-p_3)} \n",
    "\\end{cases}\n",
    "$$"
   ]
  },
  {
   "cell_type": "code",
   "execution_count": 50,
   "metadata": {},
   "outputs": [],
   "source": [
    "x0, r = (0, 0, 0), 1"
   ]
  },
  {
   "cell_type": "code",
   "execution_count": 51,
   "metadata": {},
   "outputs": [],
   "source": [
    "def grad_L(v):\n",
    "    lambda_val, x1, x2, x3 = v\n",
    "    global x0, r\n",
    "    return np.array([\n",
    "        (x1 - x0[0]) ** 2 + (x2 - x0[1]) ** 2 + (x2 - x0[1]) ** 2 - r ** 2,\n",
    "        (2 * x1 - 2 * x2 + x3) / 2 + 1 + 2 * lambda_val * (x1 - x0[0]),\n",
    "        (-2 * x1 + 4 * x2 - x3) / 2 + 2 + 2 * lambda_val * (x2 - x0[1]),\n",
    "        (x1 - x2 + 4 * x3) / 2 - 1 + 2 * lambda_val * (x3 - x0[2])\n",
    "    ])"
   ]
  },
  {
   "cell_type": "markdown",
   "metadata": {},
   "source": [
    "$$\\begin{cases}\n",
    "{x_1^2 + x_2^2 + x_3^2 - 1=0} \\\\\n",
    "{x_1+x_2+2\\lambda x_1=0} \\\\\n",
    "{x_2+x_1+1+2\\lambda x_2=0} \\\\\n",
    "{x_3+2\\lambda x_3=0} \n",
    "\\end{cases}$$"
   ]
  },
  {
   "cell_type": "markdown",
   "metadata": {},
   "source": [
    "$$\\left\\{\\begin{gathered}k=-\\dfrac{1}{2}\\\\x_{2}=0\\\\x_{1}=-1\\\\x_{3}=0\\end{gathered}\\right.,\\,\\;\\left\\{\\begin{gathered}x_{3}=0\\\\x_{1}=\\dfrac{1}{2}\\\\x_{2}=-\\dfrac{\\sqrt{3}}{2}\\\\k=\\dfrac{\\sqrt{3}-1}{2}\\end{gathered}\\right.,\\,\\;\\left\\{\\begin{gathered}x_{3}=0\\\\x_{1}=\\dfrac{1}{2}\\\\x_{2}=\\dfrac{\\sqrt{3}}{2}\\\\k=\\dfrac{-\\sqrt{3}-1}{2}\\end{gathered}\\right.$$"
   ]
  },
  {
   "cell_type": "markdown",
   "metadata": {},
   "source": [
    "$$\n",
    "H(\\lambda, x) = \\begin{pmatrix}\n",
    "    {0} && {2x_1} && {2x_2} && {2x_3} \\\\\n",
    "    {2x_1} && {1+2\\lambda} && {1} && {0} \\\\\n",
    "    {2x_2} && {1} && {1+2\\lambda} && {0} \\\\\n",
    "    {2x_3} && {0} && {0} && {1+2\\lambda} \n",
    "\\end{pmatrix}\n",
    "$$"
   ]
  },
  {
   "cell_type": "code",
   "execution_count": 52,
   "metadata": {},
   "outputs": [],
   "source": [
    "def H_F(v):\n",
    "    lambda_val, x1, x2, x3 = v\n",
    "    global x0\n",
    "    return np.array([\n",
    "        [\n",
    "            0, 2 * (x1 - x0[0]), 2 * (x2 - x0[1]), 2 * (x3 - x0[2]) \n",
    "        ], \n",
    "        [   \n",
    "            2 * (x1 - x0[0]), 2 * lambda_val, 3 / 2, 0\n",
    "        ], \n",
    "        [   \n",
    "            2 * (x2 - x0[1]), 3 / 2, 2 * lambda_val, 0\n",
    "        ], \n",
    "        [\n",
    "            2 * (x3 - x0[2]), 0, 0, -1 + 2 * lambda_val\n",
    "        ]\n",
    "    ])"
   ]
  },
  {
   "attachments": {
    "image.png": {
     "image/png": "[encoded data removed]"
    }
   },
   "cell_type": "markdown",
   "metadata": {},
   "source": [
    "![image.png](attachment:image.png)"
   ]
  },
  {
   "cell_type": "markdown",
   "metadata": {},
   "source": [
    "$$v_{min}=(\\lambda, x_1, x_2, x_3)=(0.37, 0.5, -0.87, 0)$$"
   ]
  },
  {
   "cell_type": "code",
   "execution_count": 53,
   "metadata": {},
   "outputs": [],
   "source": [
    "exact_x = np.array([0.5, -0.87, 0])"
   ]
  },
  {
   "cell_type": "code",
   "execution_count": 54,
   "metadata": {},
   "outputs": [
    {
     "data": {
      "text/plain": [
       "np.float64(-0.80155)"
      ]
     },
     "execution_count": 54,
     "metadata": {},
     "output_type": "execute_result"
    }
   ],
   "source": [
    "f(*exact_x)"
   ]
  },
  {
   "cell_type": "markdown",
   "metadata": {},
   "source": [
    "$$\n",
    "f_0(x_1, x_2, x_2) = \n",
    "\\dfrac 1 2 \\left(\n",
    "    x_1^2 + x_2^2 +x_3^2 + 2x_1x_2\n",
    "\\right) + x_2\n",
    "$$\n",
    "$$x_3^2=1-x_2^2-x_1^2$$\n",
    "$$h(x_1, x_2)=(x_1+1)x_2$$\n",
    "$$g_h(x_1, x_2)=x_1^2+x_2^1-1$$\n",
    "$$L_h(x_1, x_2, \\lambda)=(x_1+1)x_2+\\lambda (x_2^2+x_1^2-1)$$"
   ]
  },
  {
   "cell_type": "code",
   "execution_count": 55,
   "metadata": {},
   "outputs": [],
   "source": [
    "def ГрадиентныйСпуск(func, grad_func, v0, h, epsilon):\n",
    "    index = 0\n",
    "    v = v0\n",
    "\n",
    "    indexes, vectors, steps, func_vals, norms = [], [], [], [], []\n",
    "    \n",
    "    while True:\n",
    "        indexes.append(index)\n",
    "        steps.append(h)\n",
    "\n",
    "        vectors.append(np.round(v, 2))\n",
    "\n",
    "        f_val = func(v)\n",
    "        func_vals.append(f_val)\n",
    "\n",
    "        grad = grad_func(v)\n",
    "\n",
    "        norms.append(np.linalg.norm(grad))\n",
    "\n",
    "        v = v - h * grad\n",
    "\n",
    "        # l = np.sqrt(np.sum([v[i] * v[i] for i in range(1, len(v))]))\n",
    "        # for i in range(1, len(v)):\n",
    "        #     v[i] = v[i] / l\n",
    "\n",
    "        if f_val <= func(v):\n",
    "            h = h / 2\n",
    "        \n",
    "        index += 1\n",
    "\n",
    "        if np.linalg.norm(grad) < epsilon:\n",
    "            break\n",
    "\n",
    "        if index > 1000:\n",
    "            break\n",
    "\n",
    "    return pd.DataFrame({'vec': vectors, 'h': steps, \n",
    "                         'f': func_vals, '||∇F||': norms}, index=indexes), index - 1, v"
   ]
  },
  {
   "cell_type": "code",
   "execution_count": 56,
   "metadata": {},
   "outputs": [],
   "source": [
    "def ПокординатныйСпуск(func, grad_func, v0, h0, epsilon):\n",
    "    index = 0\n",
    "    v = v0\n",
    "\n",
    "    indexes, vectors, steps, func_vals, norms = [], [], [], [], []\n",
    "    \n",
    "    for i in range(len(v)):\n",
    "\n",
    "        h = h0\n",
    "\n",
    "        while True:\n",
    "            indexes.append(index)\n",
    "            steps.append(h)\n",
    "\n",
    "            vectors.append(np.round(v, 2))\n",
    "\n",
    "            f_val = func(v)\n",
    "            func_vals.append(f_val)\n",
    "\n",
    "            grad = grad_func(v)\n",
    "\n",
    "            norms.append(np.abs(grad[i]))\n",
    "\n",
    "            v[i] = v[i] - h * grad[i]\n",
    "\n",
    "            if f_val <= func(v):\n",
    "                h = h / 2\n",
    "            \n",
    "            index += 1\n",
    "\n",
    "            if np.abs(grad[i]) < epsilon:\n",
    "                break\n",
    "\n",
    "            if index > 1000:\n",
    "                break\n",
    "\n",
    "    return pd.DataFrame({'vec': vectors, 'h': steps, \n",
    "                         'f': func_vals, '|F\\'|': norms}, index=indexes), index - 1, v"
   ]
  },
  {
   "cell_type": "code",
   "execution_count": 57,
   "metadata": {},
   "outputs": [],
   "source": [
    "epsilon = 0.01\n",
    "v0 = [0.5, 0, -1, 0]\n",
    "h = 10"
   ]
  },
  {
   "cell_type": "code",
   "execution_count": 58,
   "metadata": {},
   "outputs": [
    {
     "name": "stdout",
     "output_type": "stream",
     "text": [
      "Сошлось за 1000 итераций\n",
      "Численное решение: [nan nan nan nan]\n",
      "Аналитическое решение: [ 0.5  -0.87  0.  ]\n"
     ]
    },
    {
     "name": "stderr",
     "output_type": "stream",
     "text": [
      "C:\\Users\\User\\AppData\\Local\\Temp\\ipykernel_27264\\2433317317.py:4: RuntimeWarning: overflow encountered in scalar power\n",
      "  return ((x1 ** 2 + x2 ** 2 + x3 ** 2 + 2 * x1 * x2) / 2 + x2\n",
      "C:\\Users\\User\\AppData\\Local\\Temp\\ipykernel_27264\\2433317317.py:4: RuntimeWarning: overflow encountered in scalar multiply\n",
      "  return ((x1 ** 2 + x2 ** 2 + x3 ** 2 + 2 * x1 * x2) / 2 + x2\n",
      "C:\\Users\\User\\AppData\\Local\\Temp\\ipykernel_27264\\2433317317.py:4: RuntimeWarning: invalid value encountered in scalar add\n",
      "  return ((x1 ** 2 + x2 ** 2 + x3 ** 2 + 2 * x1 * x2) / 2 + x2\n",
      "C:\\Users\\User\\AppData\\Local\\Temp\\ipykernel_27264\\2433317317.py:5: RuntimeWarning: overflow encountered in scalar power\n",
      "  + lambda_val * ((x1 - x0[0]) ** 2 + (x2 - x0[1]) ** 2 + (x2 - x0[1]) ** 2 - r ** 2))\n",
      "C:\\Users\\User\\AppData\\Local\\Temp\\ipykernel_27264\\1316654386.py:6: RuntimeWarning: overflow encountered in scalar multiply\n",
      "  (2 * x1 - 2 * x2 + x3) / 2 + 1 + 2 * lambda_val * (x1 - x0[0]),\n",
      "C:\\Users\\User\\AppData\\Local\\Temp\\ipykernel_27264\\2807945492.py:20: RuntimeWarning: overflow encountered in multiply\n",
      "  v = v - h * grad\n",
      "C:\\Users\\User\\AppData\\Local\\Temp\\ipykernel_27264\\1316654386.py:6: RuntimeWarning: invalid value encountered in scalar add\n",
      "  (2 * x1 - 2 * x2 + x3) / 2 + 1 + 2 * lambda_val * (x1 - x0[0]),\n",
      "C:\\Users\\User\\AppData\\Local\\Temp\\ipykernel_27264\\1316654386.py:7: RuntimeWarning: invalid value encountered in scalar subtract\n",
      "  (-2 * x1 + 4 * x2 - x3) / 2 + 2 + 2 * lambda_val * (x2 - x0[1]),\n",
      "C:\\Users\\User\\AppData\\Local\\Temp\\ipykernel_27264\\1316654386.py:8: RuntimeWarning: invalid value encountered in scalar add\n",
      "  (x1 - x2 + 4 * x3) / 2 - 1 + 2 * lambda_val * (x3 - x0[2])\n"
     ]
    },
    {
     "data": {
      "text/html": [
       "<div>\n",
       "<style scoped>\n",
       "    .dataframe tbody tr th:only-of-type {\n",
       "        vertical-align: middle;\n",
       "    }\n",
       "\n",
       "    .dataframe tbody tr th {\n",
       "        vertical-align: top;\n",
       "    }\n",
       "\n",
       "    .dataframe thead th {\n",
       "        text-align: right;\n",
       "    }\n",
       "</style>\n",
       "<table border=\"1\" class=\"dataframe\">\n",
       "  <thead>\n",
       "    <tr style=\"text-align: right;\">\n",
       "      <th></th>\n",
       "      <th>vec</th>\n",
       "      <th>h</th>\n",
       "      <th>f</th>\n",
       "      <th>||∇F||</th>\n",
       "    </tr>\n",
       "  </thead>\n",
       "  <tbody>\n",
       "    <tr>\n",
       "      <th>0</th>\n",
       "      <td>[0.5, 0.0, -1.0, 0.0]</td>\n",
       "      <td>10</td>\n",
       "      <td>0.000000e+00</td>\n",
       "      <td>2.500000e+00</td>\n",
       "    </tr>\n",
       "    <tr>\n",
       "      <th>1</th>\n",
       "      <td>[-9.5, -20.0, 9.0, 5.0]</td>\n",
       "      <td>10</td>\n",
       "      <td>-5.247500e+03</td>\n",
       "      <td>6.843345e+02</td>\n",
       "    </tr>\n",
       "    <tr>\n",
       "      <th>2</th>\n",
       "      <td>[-5619.5, -3565.0, 1344.0, 1010.0]</td>\n",
       "      <td>10</td>\n",
       "      <td>-9.171792e+10</td>\n",
       "      <td>4.720462e+07</td>\n",
       "    </tr>\n",
       "    <tr>\n",
       "      <th>3</th>\n",
       "      <td>[-163224579.5, -400629885.0, 150996004.0, 1135...</td>\n",
       "      <td>10</td>\n",
       "      <td>-3.364122e+25</td>\n",
       "      <td>2.517671e+17</td>\n",
       "    </tr>\n",
       "    <tr>\n",
       "      <th>4</th>\n",
       "      <td>[-2.061038912193717e+18, -1.3078528857371343e+...</td>\n",
       "      <td>10</td>\n",
       "      <td>-4.526927e+54</td>\n",
       "      <td>6.352161e+36</td>\n",
       "    </tr>\n",
       "    <tr>\n",
       "      <th>...</th>\n",
       "      <td>...</td>\n",
       "      <td>...</td>\n",
       "      <td>...</td>\n",
       "      <td>...</td>\n",
       "    </tr>\n",
       "    <tr>\n",
       "      <th>996</th>\n",
       "      <td>[nan, nan, nan, nan]</td>\n",
       "      <td>10</td>\n",
       "      <td>NaN</td>\n",
       "      <td>NaN</td>\n",
       "    </tr>\n",
       "    <tr>\n",
       "      <th>997</th>\n",
       "      <td>[nan, nan, nan, nan]</td>\n",
       "      <td>10</td>\n",
       "      <td>NaN</td>\n",
       "      <td>NaN</td>\n",
       "    </tr>\n",
       "    <tr>\n",
       "      <th>998</th>\n",
       "      <td>[nan, nan, nan, nan]</td>\n",
       "      <td>10</td>\n",
       "      <td>NaN</td>\n",
       "      <td>NaN</td>\n",
       "    </tr>\n",
       "    <tr>\n",
       "      <th>999</th>\n",
       "      <td>[nan, nan, nan, nan]</td>\n",
       "      <td>10</td>\n",
       "      <td>NaN</td>\n",
       "      <td>NaN</td>\n",
       "    </tr>\n",
       "    <tr>\n",
       "      <th>1000</th>\n",
       "      <td>[nan, nan, nan, nan]</td>\n",
       "      <td>10</td>\n",
       "      <td>NaN</td>\n",
       "      <td>NaN</td>\n",
       "    </tr>\n",
       "  </tbody>\n",
       "</table>\n",
       "<p>1001 rows × 4 columns</p>\n",
       "</div>"
      ],
      "text/plain": [
       "                                                    vec   h             f  \\\n",
       "0                                 [0.5, 0.0, -1.0, 0.0]  10  0.000000e+00   \n",
       "1                               [-9.5, -20.0, 9.0, 5.0]  10 -5.247500e+03   \n",
       "2                    [-5619.5, -3565.0, 1344.0, 1010.0]  10 -9.171792e+10   \n",
       "3     [-163224579.5, -400629885.0, 150996004.0, 1135...  10 -3.364122e+25   \n",
       "4     [-2.061038912193717e+18, -1.3078528857371343e+...  10 -4.526927e+54   \n",
       "...                                                 ...  ..           ...   \n",
       "996                                [nan, nan, nan, nan]  10           NaN   \n",
       "997                                [nan, nan, nan, nan]  10           NaN   \n",
       "998                                [nan, nan, nan, nan]  10           NaN   \n",
       "999                                [nan, nan, nan, nan]  10           NaN   \n",
       "1000                               [nan, nan, nan, nan]  10           NaN   \n",
       "\n",
       "            ||∇F||  \n",
       "0     2.500000e+00  \n",
       "1     6.843345e+02  \n",
       "2     4.720462e+07  \n",
       "3     2.517671e+17  \n",
       "4     6.352161e+36  \n",
       "...            ...  \n",
       "996            NaN  \n",
       "997            NaN  \n",
       "998            NaN  \n",
       "999            NaN  \n",
       "1000           NaN  \n",
       "\n",
       "[1001 rows x 4 columns]"
      ]
     },
     "execution_count": 58,
     "metadata": {},
     "output_type": "execute_result"
    }
   ],
   "source": [
    "df, index, vec = ГрадиентныйСпуск(L, grad_L, v0, h, epsilon)\n",
    "print(f'Сошлось за {index} итераций')\n",
    "print(f'Численное решение: {vec}')\n",
    "print(f'Аналитическое решение: {exact_x}')\n",
    "# print(f'Норма разницы численного и точного решения = {np.linalg.norm(vec - exact_x)}')\n",
    "df"
   ]
  },
  {
   "cell_type": "code",
   "execution_count": 59,
   "metadata": {},
   "outputs": [
    {
     "name": "stdout",
     "output_type": "stream",
     "text": [
      "Сошлось за 1003 итераций\n",
      "Численное решение: [np.float64(-10009.5), np.float64(-20.0), np.float64(-200391.0), np.float64(-1001845.0)]\n",
      "Аналитическое решение: [ 0.5  -0.87  0.  ]\n"
     ]
    },
    {
     "data": {
      "text/html": [
       "<div>\n",
       "<style scoped>\n",
       "    .dataframe tbody tr th:only-of-type {\n",
       "        vertical-align: middle;\n",
       "    }\n",
       "\n",
       "    .dataframe tbody tr th {\n",
       "        vertical-align: top;\n",
       "    }\n",
       "\n",
       "    .dataframe thead th {\n",
       "        text-align: right;\n",
       "    }\n",
       "</style>\n",
       "<table border=\"1\" class=\"dataframe\">\n",
       "  <thead>\n",
       "    <tr style=\"text-align: right;\">\n",
       "      <th></th>\n",
       "      <th>vec</th>\n",
       "      <th>h</th>\n",
       "      <th>f</th>\n",
       "      <th>|F'|</th>\n",
       "    </tr>\n",
       "  </thead>\n",
       "  <tbody>\n",
       "    <tr>\n",
       "      <th>0</th>\n",
       "      <td>[0.5, 0.0, -1.0, 0.0]</td>\n",
       "      <td>10</td>\n",
       "      <td>0.000000e+00</td>\n",
       "      <td>1.0</td>\n",
       "    </tr>\n",
       "    <tr>\n",
       "      <th>1</th>\n",
       "      <td>[-9.5, 0.0, -1.0, 0.0]</td>\n",
       "      <td>10</td>\n",
       "      <td>-1.000000e+01</td>\n",
       "      <td>1.0</td>\n",
       "    </tr>\n",
       "    <tr>\n",
       "      <th>2</th>\n",
       "      <td>[-19.5, 0.0, -1.0, 0.0]</td>\n",
       "      <td>10</td>\n",
       "      <td>-2.000000e+01</td>\n",
       "      <td>1.0</td>\n",
       "    </tr>\n",
       "    <tr>\n",
       "      <th>3</th>\n",
       "      <td>[-29.5, 0.0, -1.0, 0.0]</td>\n",
       "      <td>10</td>\n",
       "      <td>-3.000000e+01</td>\n",
       "      <td>1.0</td>\n",
       "    </tr>\n",
       "    <tr>\n",
       "      <th>4</th>\n",
       "      <td>[-39.5, 0.0, -1.0, 0.0]</td>\n",
       "      <td>10</td>\n",
       "      <td>-4.000000e+01</td>\n",
       "      <td>1.0</td>\n",
       "    </tr>\n",
       "    <tr>\n",
       "      <th>...</th>\n",
       "      <td>...</td>\n",
       "      <td>...</td>\n",
       "      <td>...</td>\n",
       "      <td>...</td>\n",
       "    </tr>\n",
       "    <tr>\n",
       "      <th>999</th>\n",
       "      <td>[-9989.5, 0.0, -1.0, 0.0]</td>\n",
       "      <td>10</td>\n",
       "      <td>-9.990000e+03</td>\n",
       "      <td>1.0</td>\n",
       "    </tr>\n",
       "    <tr>\n",
       "      <th>1000</th>\n",
       "      <td>[-9999.5, 0.0, -1.0, 0.0]</td>\n",
       "      <td>10</td>\n",
       "      <td>-1.000000e+04</td>\n",
       "      <td>1.0</td>\n",
       "    </tr>\n",
       "    <tr>\n",
       "      <th>1001</th>\n",
       "      <td>[-10009.5, 0.0, -1.0, 0.0]</td>\n",
       "      <td>10</td>\n",
       "      <td>-1.001000e+04</td>\n",
       "      <td>2.0</td>\n",
       "    </tr>\n",
       "    <tr>\n",
       "      <th>1002</th>\n",
       "      <td>[-10009.5, -20.0, -1.0, 0.0]</td>\n",
       "      <td>10</td>\n",
       "      <td>-4.013590e+06</td>\n",
       "      <td>20039.0</td>\n",
       "    </tr>\n",
       "    <tr>\n",
       "      <th>1003</th>\n",
       "      <td>[-10009.5, -20.0, -200391.0, 0.0]</td>\n",
       "      <td>10</td>\n",
       "      <td>-8.038740e+14</td>\n",
       "      <td>100184.5</td>\n",
       "    </tr>\n",
       "  </tbody>\n",
       "</table>\n",
       "<p>1004 rows × 4 columns</p>\n",
       "</div>"
      ],
      "text/plain": [
       "                                    vec   h             f      |F'|\n",
       "0                 [0.5, 0.0, -1.0, 0.0]  10  0.000000e+00       1.0\n",
       "1                [-9.5, 0.0, -1.0, 0.0]  10 -1.000000e+01       1.0\n",
       "2               [-19.5, 0.0, -1.0, 0.0]  10 -2.000000e+01       1.0\n",
       "3               [-29.5, 0.0, -1.0, 0.0]  10 -3.000000e+01       1.0\n",
       "4               [-39.5, 0.0, -1.0, 0.0]  10 -4.000000e+01       1.0\n",
       "...                                 ...  ..           ...       ...\n",
       "999           [-9989.5, 0.0, -1.0, 0.0]  10 -9.990000e+03       1.0\n",
       "1000          [-9999.5, 0.0, -1.0, 0.0]  10 -1.000000e+04       1.0\n",
       "1001         [-10009.5, 0.0, -1.0, 0.0]  10 -1.001000e+04       2.0\n",
       "1002       [-10009.5, -20.0, -1.0, 0.0]  10 -4.013590e+06   20039.0\n",
       "1003  [-10009.5, -20.0, -200391.0, 0.0]  10 -8.038740e+14  100184.5\n",
       "\n",
       "[1004 rows x 4 columns]"
      ]
     },
     "execution_count": 59,
     "metadata": {},
     "output_type": "execute_result"
    }
   ],
   "source": [
    "df, index, vec = ПокординатныйСпуск(L, grad_L, v0, h, epsilon)\n",
    "print(f'Сошлось за {index} итераций')\n",
    "print(f'Численное решение: {vec}')\n",
    "print(f'Аналитическое решение: {exact_x}')\n",
    "# print(f'Норма разницы численного и точного решения = {np.linalg.norm(vec - exact_x)}')\n",
    "df"
   ]
  }
 ],
 "metadata": {
  "kernelspec": {
   "display_name": "Python 3",
   "language": "python",
   "name": "python3"
  },
  "language_info": {
   "codemirror_mode": {
    "name": "ipython",
    "version": 3
   },
   "file_extension": ".py",
   "mimetype": "text/x-python",
   "name": "python",
   "nbconvert_exporter": "python",
   "pygments_lexer": "ipython3",
   "version": "3.12.7"
  }
 },
 "nbformat": 4,
 "nbformat_minor": 2
}
