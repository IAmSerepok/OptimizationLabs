{
 "cells": [
  {
   "cell_type": "code",
   "execution_count": 30,
   "metadata": {},
   "outputs": [],
   "source": [
    "import numpy as np\n",
    "from random import randint"
   ]
  },
  {
   "cell_type": "code",
   "execution_count": 31,
   "metadata": {},
   "outputs": [],
   "source": [
    "def generate(width, height, a, b):\n",
    "    array = np.zeros((width, height), int)\n",
    "\n",
    "    for x in range(width):\n",
    "        for y in range(height):\n",
    "            array[x, y] = randint(a, b)\n",
    "\n",
    "    return np.array(array)"
   ]
  },
  {
   "cell_type": "code",
   "execution_count": 34,
   "metadata": {},
   "outputs": [
    {
     "name": "stdout",
     "output_type": "stream",
     "text": [
      "λ0 = 1.0 ; λ1 = 2.0 ; λ2 = 2.0 ; "
     ]
    },
    {
     "data": {
      "text/plain": [
       "array([[ 1, -2,  1],\n",
       "       [ 0,  2,  0],\n",
       "       [ 0, -1,  2]])"
      ]
     },
     "execution_count": 34,
     "metadata": {},
     "output_type": "execute_result"
    }
   ],
   "source": [
    "while True:\n",
    "    arr = generate(3, 3, -2, 2)\n",
    "    flag = True\n",
    "    for val in np.linalg.eig(arr)[0]:\n",
    "        if val <= 0: flag = False\n",
    "        if type(val) == np.complex128: flag = False\n",
    "    if flag:\n",
    "        break\n",
    "\n",
    "for index, val in enumerate(np.linalg.eig(arr)[0]):\n",
    "    print(f'λ{index} = {val}', end=' ; ')\n",
    "arr"
   ]
  },
  {
   "cell_type": "code",
   "execution_count": 33,
   "metadata": {},
   "outputs": [
    {
     "name": "stdout",
     "output_type": "stream",
     "text": [
      "[ 1  0 -3]\n"
     ]
    }
   ],
   "source": [
    "b = np.zeros((3), int)\n",
    "\n",
    "for x in range(3):\n",
    "    b[x] = randint(-3, 3)\n",
    "\n",
    "print(b)"
   ]
  }
 ],
 "metadata": {
  "kernelspec": {
   "display_name": "Python 3",
   "language": "python",
   "name": "python3"
  },
  "language_info": {
   "codemirror_mode": {
    "name": "ipython",
    "version": 3
   },
   "file_extension": ".py",
   "mimetype": "text/x-python",
   "name": "python",
   "nbconvert_exporter": "python",
   "pygments_lexer": "ipython3",
   "version": "3.11.9"
  }
 },
 "nbformat": 4,
 "nbformat_minor": 2
}
